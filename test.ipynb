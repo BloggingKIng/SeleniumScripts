{
 "cells": [
  {
   "cell_type": "code",
   "execution_count": 20,
   "metadata": {},
   "outputs": [],
   "source": [
    "from selenium import webdriver\n",
    "from selenium.webdriver.common.by import By\n",
    "from selenium.webdriver.common.keys import Keys\n",
    "from selenium.webdriver.chrome.service import Service\n",
    "from selenium.webdriver.support.ui import WebDriverWait\n",
    "from selenium.webdriver.support import expected_conditions as EC\n",
    "import re"
   ]
  },
  {
   "cell_type": "code",
   "execution_count": 3,
   "metadata": {},
   "outputs": [],
   "source": [
    "service = Service(executable_path=\"chromedriver.exe\")\n",
    "chrome_options = webdriver.ChromeOptions()\n",
    "chrome_options.add_argument(\"--start-maximized\") \n",
    "chrome_options.add_argument(\"--disable-notifications\")\n",
    "chrome_options.add_argument(\"--disable-blink-features=AutomationControlled\") \n",
    "chrome_options.add_experimental_option(\"excludeSwitches\", [\"enable-automation\"]) \n",
    "chrome_options.add_experimental_option(\"useAutomationExtension\", False) \n",
    "driver = webdriver.Chrome(service=service, options=chrome_options)"
   ]
  },
  {
   "cell_type": "code",
   "execution_count": 4,
   "metadata": {},
   "outputs": [],
   "source": [
    "driver.get(\"https://www.facebook.com/\")"
   ]
  },
  {
   "cell_type": "code",
   "execution_count": 8,
   "metadata": {},
   "outputs": [],
   "source": [
    "email = \"huzaifablogger1@gmail.com\"\n",
    "email_input = WebDriverWait(driver,5).until(EC.presence_of_element_located((By.ID, \"email\")))\n",
    "email_input.send_keys(email)"
   ]
  },
  {
   "cell_type": "code",
   "execution_count": 9,
   "metadata": {},
   "outputs": [],
   "source": [
    "password = \"\"\n",
    "password_input = WebDriverWait(driver,5).until(EC.presence_of_element_located((By.ID, \"pass\")))\n",
    "password_input.send_keys(password)\n",
    "password_input.send_keys(Keys.RETURN)"
   ]
  },
  {
   "cell_type": "code",
   "execution_count": 23,
   "metadata": {},
   "outputs": [],
   "source": [
    "group_invites_page_url  = \"https://www.facebook.com/groups/1001741534131544/members/invited\"\n",
    "driver.get(group_invites_page_url)"
   ]
  },
  {
   "cell_type": "code",
   "execution_count": 24,
   "metadata": {},
   "outputs": [],
   "source": [
    "members_list = driver.find_element(By.XPATH, '//div[@role=\"list\"]')\n",
    "members = members_list.find_elements(By.XPATH, \"//div[@role='listitem']\")"
   ]
  },
  {
   "cell_type": "code",
   "execution_count": 25,
   "metadata": {},
   "outputs": [
    {
     "data": {
      "text/plain": [
       "20"
      ]
     },
     "execution_count": 25,
     "metadata": {},
     "output_type": "execute_result"
    }
   ],
   "source": [
    "len(members)"
   ]
  },
  {
   "cell_type": "code",
   "execution_count": 26,
   "metadata": {},
   "outputs": [
    {
     "name": "stdout",
     "output_type": "stream",
     "text": [
      "Active\n",
      "Itz Learner\n",
      "Invited by Programmer Hz 16 minutes ago\n",
      "Abuja, Nigeria\n",
      "Message\n",
      "\n",
      "Ishar Khan\n",
      "Invited by Programmer Hz 16 minutes ago\n",
      "Frontend Development at Front-End Web Developer\n",
      "\n",
      "Hs tools and subscriptions\n",
      "Invited by Programmer Hz 16 minutes ago\n",
      "\n",
      "Emeka FX\n",
      "Invited by Programmer Hz 16 minutes ago\n",
      "Web developer at Web Developer\n",
      "\n",
      "Tfd Dev\n",
      "Invited by Programmer Hz 16 minutes ago\n",
      "Message\n",
      "\n"
     ]
    }
   ],
   "source": [
    "# text of first 5 just for testing purposes\n",
    "for member in members[:5]:\n",
    "    print(member.text)\n",
    "    print()"
   ]
  },
  {
   "cell_type": "code",
   "execution_count": 27,
   "metadata": {},
   "outputs": [],
   "source": [
    "def string_to_time(time_string):\n",
    "    time_units = {\n",
    "        'second': 1,\n",
    "        'minute': 60,\n",
    "        'hour': 60*60,\n",
    "        'day': 24*60*60,\n",
    "        'week': 7*24*60*60,\n",
    "        'month': 30*24*60*60,  \n",
    "        'year': 365*24*60*60  \n",
    "    }\n",
    "    match = re.search(r'(\\d+)\\s+(\\w+)\\s+ago', time_string)\n",
    "    if not match:\n",
    "        print(\"Invalid time string\")\n",
    "        return\n",
    "    value, unit = match.groups()\n",
    "    value = int(value)\n",
    "    unit = unit.rstrip('s')  \n",
    "    if unit not in time_units:\n",
    "        print(\"Invalid time unit\")\n",
    "        return\n",
    "    \n",
    "    return value * time_units[unit]"
   ]
  },
  {
   "cell_type": "code",
   "execution_count": 40,
   "metadata": {},
   "outputs": [
    {
     "name": "stdout",
     "output_type": "stream",
     "text": [
      "Member Name: Itz Learner -> Line: Invited by Programmer Hz 16 minutes ago -> Time: 960s\n",
      "Member Name: Ishar Khan -> Line: Invited by Programmer Hz 16 minutes ago -> Time: 960s\n",
      "Member Name: Hs tools and subscriptions -> Line: Invited by Programmer Hz 16 minutes ago -> Time: 960s\n",
      "Member Name: Emeka FX -> Line: Invited by Programmer Hz 16 minutes ago -> Time: 960s\n",
      "Member Name: Tfd Dev -> Line: Invited by Programmer Hz 16 minutes ago -> Time: 960s\n",
      "Member Name: Hacking Live -> Line: Invited by Programmer Hz 16 minutes ago -> Time: 960s\n",
      "Member Name: Adesola Omotoyosi -> Line: Invited by Programmer Hz 16 minutes ago -> Time: 960s\n",
      "Member Name: سعود شاه -> Line: Invited by Programmer Hz 16 minutes ago -> Time: 960s\n",
      "Member Name: Shamim Mollick -> Line: Invited by Programmer Hz 16 minutes ago -> Time: 960s\n",
      "Member Name: Zain Asghar -> Line: Invited by Programmer Hz 16 minutes ago -> Time: 960s\n",
      "Member Name: Hammad Ahmad -> Line: Invited by Programmer Hz 16 minutes ago -> Time: 960s\n",
      "Member Name: Jn Coderz -> Line: Invited by Programmer Hz 16 minutes ago -> Time: 960s\n",
      "Member Name: Programmer Babar -> Line: Invited by Programmer Hz 16 minutes ago -> Time: 960s\n",
      "Member Name: Md Arafat Hossain Likhon -> Line: Invited by Programmer Hz 16 minutes ago -> Time: 960s\n",
      "Member Name: Taimoor Lefti -> Line: Invited by Ipythonista Programms about 2 weeks ago -> Time: 1209600s\n",
      "Member Name: Napo Leo Picasso -> Line: Invited by Ipythonista Programms about 2 weeks ago -> Time: 1209600s\n",
      "Member Name: Trie Hartanto -> Line: Invited by Ipythonista Programms about 2 weeks ago -> Time: 1209600s\n",
      "Member Name: Rubel Haji -> Line: Invited by Ipythonista Programms about 2 weeks ago -> Time: 1209600s\n",
      "Member Name: Andi Lau -> Line: Invited by Ipythonista Programms about 2 weeks ago -> Time: 1209600s\n",
      "Member Name: Raidar Fulzar King -> Line: Invited by Ipythonista Programms about 2 weeks ago -> Time: 1209600s\n"
     ]
    }
   ],
   "source": [
    "#testing \n",
    "\n",
    "for member in members[:20]:\n",
    "    txt = member.text\n",
    "    member_name = txt.split('\\n')[0] if txt.split('\\n')[0].lower().strip() != \"active\" else txt.split('\\n')[1]\n",
    "    for line in member.text.split('\\n'):\n",
    "        if 'ago' in line:\n",
    "            st_time = string_to_time(line)\n",
    "            print(f\"Member Name: {member_name} -> Line: {line} -> Time: {st_time}s\")"
   ]
  },
  {
   "cell_type": "code",
   "execution_count": 36,
   "metadata": {},
   "outputs": [
    {
     "name": "stdout",
     "output_type": "stream",
     "text": [
      "960\n",
      "1209600\n"
     ]
    }
   ],
   "source": [
    "print(60*16) #16 mins\n",
    "print(2*7*24*60*60) # 2 weeks"
   ]
  },
  {
   "cell_type": "code",
   "execution_count": 45,
   "metadata": {},
   "outputs": [
    {
     "name": "stdout",
     "output_type": "stream",
     "text": [
      "Itz Learner\n",
      "960\n"
     ]
    }
   ],
   "source": [
    "test_member = members[0]\n",
    "txt= test_member.text\n",
    "invite_time = 0\n",
    "for line in txt.split('\\n'):\n",
    "    if 'ago' in line:\n",
    "        invite_time = string_to_time(line)\n",
    "        break\n",
    "name = txt.split('\\n')[0] if txt.split('\\n')[0].lower().strip() != \"active\" else txt.split('\\n')[1]\n",
    "print(name)\n",
    "print(invite_time)"
   ]
  },
  {
   "cell_type": "code",
   "execution_count": 52,
   "metadata": {},
   "outputs": [
    {
     "name": "stdout",
     "output_type": "stream",
     "text": [
      "We should remind him!\n"
     ]
    }
   ],
   "source": [
    "reminder_time = 10*60 # 10 mins\n",
    "if invite_time > reminder_time:\n",
    "    print(\"We should remind him!\")"
   ]
  },
  {
   "cell_type": "code",
   "execution_count": 54,
   "metadata": {},
   "outputs": [],
   "source": [
    "more_btn = driver.find_element(By.XPATH, f'//div[contains(@aria-label, \"Actions for {name}\")]')\n",
    "more_btn.click()"
   ]
  },
  {
   "cell_type": "code",
   "execution_count": 65,
   "metadata": {},
   "outputs": [
    {
     "name": "stdout",
     "output_type": "stream",
     "text": [
      "Reminder sent!\n"
     ]
    }
   ],
   "source": [
    "try:\n",
    "    reminder = driver.find_element(By.XPATH, '//span[contains(translate(text(),\"ABCDEFGHIJKLMNOPQRSTUVWXYZ\",\"abcdefghijklmnopqrstuvwxyz\"), \"reminder\")]')\n",
    "    reminder.click()\n",
    "    print(\"Now Confirm\")\n",
    "except Exception as e:\n",
    "    print(e)\n",
    "    print(\"Seems like we have already reminded the person!\")\n"
   ]
  },
  {
   "cell_type": "code",
   "execution_count": 50,
   "metadata": {},
   "outputs": [],
   "source": []
  },
  {
   "cell_type": "code",
   "execution_count": null,
   "metadata": {},
   "outputs": [],
   "source": []
  }
 ],
 "metadata": {
  "kernelspec": {
   "display_name": "Python 3",
   "language": "python",
   "name": "python3"
  },
  "language_info": {
   "codemirror_mode": {
    "name": "ipython",
    "version": 3
   },
   "file_extension": ".py",
   "mimetype": "text/x-python",
   "name": "python",
   "nbconvert_exporter": "python",
   "pygments_lexer": "ipython3",
   "version": "3.12.2"
  }
 },
 "nbformat": 4,
 "nbformat_minor": 2
}
