{
 "cells": [
  {
   "cell_type": "code",
   "execution_count": 31,
   "metadata": {},
   "outputs": [],
   "source": [
    "from selenium import webdriver\n",
    "from selenium.webdriver.common.by import By\n",
    "from selenium.webdriver.common.keys import Keys\n",
    "from selenium.webdriver.chrome.service import Service\n",
    "from selenium.webdriver.support.ui import WebDriverWait\n",
    "from selenium.webdriver.support import expected_conditions as EC\n",
    "import time\n",
    "import re"
   ]
  },
  {
   "cell_type": "code",
   "execution_count": 2,
   "metadata": {},
   "outputs": [],
   "source": [
    "service = Service(executable_path=\"chromedriver.exe\")\n",
    "chrome_options = webdriver.ChromeOptions()\n",
    "chrome_options.add_argument(\"--start-maximized\") \n",
    "chrome_options.add_argument(\"--disable-notifications\")\n",
    "chrome_options.add_argument(\"--disable-blink-features=AutomationControlled\") \n",
    "chrome_options.add_experimental_option(\"excludeSwitches\", [\"enable-automation\"]) \n",
    "chrome_options.add_experimental_option(\"useAutomationExtension\", False) \n",
    "driver = webdriver.Chrome(service=service, options=chrome_options)"
   ]
  },
  {
   "cell_type": "code",
   "execution_count": 8,
   "metadata": {},
   "outputs": [],
   "source": [
    "driver.get(\"https://www.facebook.com/\")"
   ]
  },
  {
   "cell_type": "code",
   "execution_count": 9,
   "metadata": {},
   "outputs": [],
   "source": [
    "email = \"huzaifablogger1@gmail.com\"\n",
    "email_input = WebDriverWait(driver,5).until(EC.presence_of_element_located((By.ID, \"email\")))\n",
    "email_input.send_keys(email)"
   ]
  },
  {
   "cell_type": "code",
   "execution_count": 10,
   "metadata": {},
   "outputs": [],
   "source": [
    "password = \"\"\n",
    "password_input = WebDriverWait(driver,5).until(EC.presence_of_element_located((By.ID, \"pass\")))\n",
    "password_input.send_keys(password)\n",
    "password_input.send_keys(Keys.RETURN)"
   ]
  },
  {
   "cell_type": "code",
   "execution_count": 7,
   "metadata": {},
   "outputs": [],
   "source": [
    "group_invites_page_url  = \"https://www.facebook.com/groups/1001741534131544/members/invited\"\n",
    "driver.get(group_invites_page_url)"
   ]
  },
  {
   "cell_type": "code",
   "execution_count": 77,
   "metadata": {},
   "outputs": [],
   "source": [
    "members_list = driver.find_element(By.XPATH, '//div[@role=\"list\"]')\n",
    "members = members_list.find_elements(By.XPATH, \"//div[@role='listitem']\")"
   ]
  },
  {
   "cell_type": "code",
   "execution_count": 78,
   "metadata": {},
   "outputs": [
    {
     "data": {
      "text/plain": [
       "20"
      ]
     },
     "execution_count": 78,
     "metadata": {},
     "output_type": "execute_result"
    }
   ],
   "source": [
    "len(members)"
   ]
  },
  {
   "cell_type": "code",
   "execution_count": 79,
   "metadata": {},
   "outputs": [
    {
     "name": "stdout",
     "output_type": "stream",
     "text": [
      "Itz Learner\n",
      "Invited by Programmer Hz 10 hours ago\n",
      "Abuja, Nigeria\n",
      "Message\n",
      "\n",
      "Hs tools and subscriptions\n",
      "Invited by Programmer Hz 10 hours ago\n",
      "\n",
      "Emeka FX\n",
      "Invited by Programmer Hz 10 hours ago\n",
      "Web developer at Web Developer\n",
      "\n",
      "Tfd Dev\n",
      "Invited by Programmer Hz 10 hours ago\n",
      "Message\n",
      "\n",
      "Hacking Live\n",
      "Invited by Programmer Hz 10 hours ago\n",
      "Message\n",
      "\n"
     ]
    }
   ],
   "source": [
    "# text of first 5 just for testing purposes\n",
    "for member in members[:5]:\n",
    "    print(member.text)\n",
    "    print()"
   ]
  },
  {
   "cell_type": "code",
   "execution_count": 92,
   "metadata": {},
   "outputs": [],
   "source": [
    "def string_to_time(time_string):\n",
    "    time_units = {\n",
    "        'second': 1,\n",
    "        'minute': 60,\n",
    "        'hour': 60*60,\n",
    "        'day': 24*60*60,\n",
    "        'week': 7*24*60*60,\n",
    "        'month': 30*24*60*60,  \n",
    "        'year': 365*24*60*60  \n",
    "    }\n",
    "    match = re.search(r'(\\d+)\\s+(\\w+)\\s+ago', time_string)\n",
    "    if not match:\n",
    "        print(\"Invalid time string\")\n",
    "        return\n",
    "    value, unit = match.groups()\n",
    "    value = int(value)\n",
    "    unit = unit.rstrip('s')  \n",
    "    if unit not in time_units:\n",
    "        print(\"Invalid time unit\")\n",
    "        return\n",
    "    \n",
    "    return value * time_units[unit]"
   ]
  },
  {
   "cell_type": "code",
   "execution_count": 81,
   "metadata": {},
   "outputs": [
    {
     "name": "stdout",
     "output_type": "stream",
     "text": [
      "Member Name: Itz Learner -> Line: Invited by Programmer Hz 10 hours ago -> Time: 36000s\n",
      "Member Name: Hs tools and subscriptions -> Line: Invited by Programmer Hz 10 hours ago -> Time: 36000s\n",
      "Member Name: Emeka FX -> Line: Invited by Programmer Hz 10 hours ago -> Time: 36000s\n",
      "Member Name: Tfd Dev -> Line: Invited by Programmer Hz 10 hours ago -> Time: 36000s\n",
      "Member Name: Hacking Live -> Line: Invited by Programmer Hz 10 hours ago -> Time: 36000s\n",
      "Member Name: Adesola Omotoyosi -> Line: Invited by Programmer Hz 10 hours ago -> Time: 36000s\n",
      "Member Name: Shamim Mollick -> Line: Invited by Programmer Hz 10 hours ago -> Time: 36000s\n",
      "Member Name: Zain Asghar -> Line: Invited by Programmer Hz 10 hours ago -> Time: 36000s\n",
      "Member Name: Hammad Ahmad -> Line: Invited by Programmer Hz 10 hours ago -> Time: 36000s\n",
      "Member Name: Jn Coderz -> Line: Invited by Programmer Hz 10 hours ago -> Time: 36000s\n",
      "Member Name: Programmer Babar -> Line: Invited by Programmer Hz 10 hours ago -> Time: 36000s\n",
      "Member Name: Md Arafat Hossain Likhon -> Line: Invited by Programmer Hz 10 hours ago -> Time: 36000s\n",
      "Member Name: Taimoor Lefti -> Line: Invited by Ipythonista Programms about 2 weeks ago -> Time: 1209600s\n",
      "Member Name: Napo Leo Picasso -> Line: Invited by Ipythonista Programms about 2 weeks ago -> Time: 1209600s\n",
      "Member Name: Trie Hartanto -> Line: Invited by Ipythonista Programms about 2 weeks ago -> Time: 1209600s\n",
      "Member Name: Rubel Haji -> Line: Invited by Ipythonista Programms about 2 weeks ago -> Time: 1209600s\n",
      "Member Name: Andi Lau -> Line: Invited by Ipythonista Programms about 2 weeks ago -> Time: 1209600s\n",
      "Member Name: Raidar Fulzar King -> Line: Invited by Ipythonista Programms about 2 weeks ago -> Time: 1209600s\n",
      "Member Name: Mashail Hameed -> Line: Invited by Bridget Sawyer about 2 weeks ago -> Time: 1209600s\n",
      "Member Name: Uttam Kumar -> Line: Invited by Ipythonista Programms about 2 weeks ago -> Time: 1209600s\n"
     ]
    }
   ],
   "source": [
    "#testing \n",
    "\n",
    "for member in members[:20]:\n",
    "    txt = member.text\n",
    "    member_name = txt.split('\\n')[0] if txt.split('\\n')[0].lower().strip() != \"active\" else txt.split('\\n')[1]\n",
    "    for line in member.text.split('\\n'):\n",
    "        if 'ago' in line:\n",
    "            st_time = string_to_time(line)\n",
    "            print(f\"Member Name: {member_name} -> Line: {line} -> Time: {st_time}s\")"
   ]
  },
  {
   "cell_type": "code",
   "execution_count": 83,
   "metadata": {},
   "outputs": [
    {
     "name": "stdout",
     "output_type": "stream",
     "text": [
      "960\n",
      "36000\n",
      "1209600\n"
     ]
    }
   ],
   "source": [
    "print(60*16) #16 mins\n",
    "print(10*60*60) # 10 hours\n",
    "print(2*7*24*60*60) # 2 weeks"
   ]
  },
  {
   "cell_type": "code",
   "execution_count": 84,
   "metadata": {},
   "outputs": [
    {
     "name": "stdout",
     "output_type": "stream",
     "text": [
      "Itz Learner\n",
      "36000\n"
     ]
    }
   ],
   "source": [
    "test_member = members[0]\n",
    "txt= test_member.text\n",
    "invite_time = 0\n",
    "for line in txt.split('\\n'):\n",
    "    if 'ago' in line:\n",
    "        invite_time = string_to_time(line)\n",
    "        break\n",
    "name = txt.split('\\n')[0] if txt.split('\\n')[0].lower().strip() != \"active\" else txt.split('\\n')[1]\n",
    "print(name)\n",
    "print(invite_time)"
   ]
  },
  {
   "cell_type": "code",
   "execution_count": 87,
   "metadata": {},
   "outputs": [
    {
     "name": "stdout",
     "output_type": "stream",
     "text": [
      "We should remind him!\n"
     ]
    }
   ],
   "source": [
    "reminder_time = 10*3600 # 10 hours\n",
    "if invite_time >= reminder_time:\n",
    "    print(\"We should remind him!\")"
   ]
  },
  {
   "cell_type": "code",
   "execution_count": 88,
   "metadata": {},
   "outputs": [],
   "source": [
    "more_btn = driver.find_element(By.XPATH, f'//div[contains(@aria-label, \"Actions for {name}\")]')\n",
    "more_btn.click()"
   ]
  },
  {
   "cell_type": "code",
   "execution_count": 89,
   "metadata": {},
   "outputs": [
    {
     "name": "stdout",
     "output_type": "stream",
     "text": [
      "Now Confirm\n"
     ]
    }
   ],
   "source": [
    "try:\n",
    "    reminder = driver.find_element(By.XPATH, '//span[contains(translate(text(),\"ABCDEFGHIJKLMNOPQRSTUVWXYZ\",\"abcdefghijklmnopqrstuvwxyz\"), \"reminder\")]')\n",
    "    reminder.click()\n",
    "    print(\"Now Confirm\")\n",
    "except Exception as e:\n",
    "    print(e)\n",
    "    print(\"Seems like we have already reminded the person!\")\n"
   ]
  },
  {
   "cell_type": "code",
   "execution_count": 91,
   "metadata": {},
   "outputs": [
    {
     "name": "stdout",
     "output_type": "stream",
     "text": [
      "Confirmed\n"
     ]
    }
   ],
   "source": [
    "confirm_btn = driver.find_elements(By.XPATH, '//span[contains(translate(text(),\"ABCDEFGHIJKLMNOPQRSTUVWXYZ\",\"abcdefghijklmnopqrstuvwxyz\"), \"confirm\")]')\n",
    "# It was finding a lot of confirm btns which were not interactable thats why we had to do this\n",
    "for btns in confirm_btn:\n",
    "    try:\n",
    "        btns.click()\n",
    "        print('Confirmed')\n",
    "        break\n",
    "    except:\n",
    "        pass"
   ]
  },
  {
   "cell_type": "code",
   "execution_count": 12,
   "metadata": {},
   "outputs": [],
   "source": [
    "# Testing work for invite features ahead =>"
   ]
  },
  {
   "cell_type": "code",
   "execution_count": 13,
   "metadata": {},
   "outputs": [],
   "source": [
    "group_url = \"https://www.facebook.com/groups/1001741534131544/\"\n",
    "driver.get(group_url)"
   ]
  },
  {
   "cell_type": "code",
   "execution_count": 54,
   "metadata": {},
   "outputs": [],
   "source": [
    "invite_btn = driver.find_elements(By.XPATH, '//span[contains(translate(text(),\"ABCDEFGHIJKLMNOPQRSTUVWXYZ\",\"abcdefghijklmnopqrstuvwxyz\"), \"invite\")]')\n",
    "for btns in invite_btn:\n",
    "    try:\n",
    "        btns.click()\n",
    "        break\n",
    "    except:\n",
    "        pass"
   ]
  },
  {
   "cell_type": "code",
   "execution_count": 55,
   "metadata": {},
   "outputs": [],
   "source": [
    "invite_facebook = driver.find_element(By.XPATH, '//span[contains(translate(text(),\"ABCDEFGHIJKLMNOPQRSTUVWXYZ\",\"abcdefghijklmnopqrstuvwxyz\"), \"invite facebook friends\")]')"
   ]
  },
  {
   "cell_type": "code",
   "execution_count": 56,
   "metadata": {},
   "outputs": [],
   "source": [
    "invite_facebook.click()"
   ]
  },
  {
   "cell_type": "code",
   "execution_count": 62,
   "metadata": {},
   "outputs": [],
   "source": [
    "checkbox = driver.find_elements(By.XPATH, '//div[@role=\"checkbox\" and @aria-checked=\"false\"]')"
   ]
  },
  {
   "cell_type": "code",
   "execution_count": 63,
   "metadata": {},
   "outputs": [],
   "source": [
    "test_box = checkbox[0]"
   ]
  },
  {
   "cell_type": "code",
   "execution_count": 64,
   "metadata": {},
   "outputs": [
    {
     "data": {
      "text/plain": [
       "{'x': 376, 'y': 205}"
      ]
     },
     "execution_count": 64,
     "metadata": {},
     "output_type": "execute_result"
    }
   ],
   "source": [
    "test_box.location_once_scrolled_into_view"
   ]
  },
  {
   "cell_type": "code",
   "execution_count": 65,
   "metadata": {},
   "outputs": [],
   "source": [
    "test_box.click()"
   ]
  },
  {
   "cell_type": "code",
   "execution_count": 66,
   "metadata": {},
   "outputs": [],
   "source": [
    "members_to_invite = 10\n",
    "tries = 0\n",
    "invite = 0\n",
    "while invite < members_to_invite and tries <= 2:\n",
    "    for chk in checkbox:\n",
    "        try:\n",
    "            chk.location_once_scrolled_into_view\n",
    "            chk.click()\n",
    "            invite += 1\n",
    "            time.sleep(1)\n",
    "        except Exception as e:\n",
    "            print(e)\n",
    "        \n",
    "        if invite >= members_to_invite:\n",
    "            break\n",
    "    \n",
    "    time.sleep(2)\n",
    "    checkbox = driver.find_elements(By.XPATH, '//div[@role=\"checkbox\" and @aria-checked=\"false\"]')\n",
    "    if invite == len(checkbox):\n",
    "        tries += 1\n"
   ]
  },
  {
   "cell_type": "code",
   "execution_count": 67,
   "metadata": {},
   "outputs": [],
   "source": [
    "send_invitation = driver.find_element(By.XPATH, '//span[contains(translate(text(),\"ABCDEFGHIJKLMNOPQRSTUVWXYZ\",\"abcdefghijklmnopqrstuvwxyz\"), \"send invitation\")]')"
   ]
  },
  {
   "cell_type": "code",
   "execution_count": 68,
   "metadata": {},
   "outputs": [],
   "source": [
    "send_invitation.click()"
   ]
  },
  {
   "cell_type": "code",
   "execution_count": null,
   "metadata": {},
   "outputs": [],
   "source": []
  }
 ],
 "metadata": {
  "kernelspec": {
   "display_name": "Python 3",
   "language": "python",
   "name": "python3"
  },
  "language_info": {
   "codemirror_mode": {
    "name": "ipython",
    "version": 3
   },
   "file_extension": ".py",
   "mimetype": "text/x-python",
   "name": "python",
   "nbconvert_exporter": "python",
   "pygments_lexer": "ipython3",
   "version": "3.12.2"
  }
 },
 "nbformat": 4,
 "nbformat_minor": 2
}
